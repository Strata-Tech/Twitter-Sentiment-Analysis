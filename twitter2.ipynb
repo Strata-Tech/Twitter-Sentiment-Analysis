{
  "nbformat": 4,
  "nbformat_minor": 0,
  "metadata": {
    "colab": {
      "name": "twitter2.ipynb",
      "provenance": [],
      "authorship_tag": "ABX9TyPi6mh9gX9VIFt5DAavKDFA",
      "include_colab_link": true
    },
    "kernelspec": {
      "name": "python3",
      "display_name": "Python 3"
    },
    "language_info": {
      "name": "python"
    }
  },
  "cells": [
    {
      "cell_type": "markdown",
      "metadata": {
        "id": "view-in-github",
        "colab_type": "text"
      },
      "source": [
        "<a href=\"https://colab.research.google.com/github/Strata-Tech/Twitter-Sentiment-Analysis/blob/main/twitter2.ipynb\" target=\"_parent\"><img src=\"https://colab.research.google.com/assets/colab-badge.svg\" alt=\"Open In Colab\"/></a>"
      ]
    },
    {
      "cell_type": "code",
      "metadata": {
        "id": "SkWBDZApTQYf"
      },
      "source": [
        "import tweepy\n",
        "from tweepy import OAuthHandler\n",
        "import textblob\n",
        "from textblob import TextBlob\n",
        "import re\n",
        "import matplotlib.pyplot as plt\n",
        "import pandas as pd\n",
        "\n"
      ],
      "execution_count": 1,
      "outputs": []
    },
    {
      "cell_type": "code",
      "metadata": {
        "id": "OEijzPuMTsKh",
        "colab": {
          "base_uri": "https://localhost:8080/",
          "height": 301
        },
        "outputId": "64ebd704-bbe5-4bdb-cea7-c756f49bd623"
      },
      "source": [
        "#creating generic Twitter class\n",
        "\n",
        "class Twitterclient:\n",
        "    def __init__(self):\n",
        "        consumer_api_key = ''\n",
        "        consumer_api_secret = ''\n",
        "        access_token = ''\n",
        "        access_token_secret = ''\n",
        "\n",
        "        self.auth = OAuthHandler(consumer_api_key, consumer_api_secret)\n",
        "\n",
        "        self.auth.set_access_token(access_token, access_token_secret)\n",
        "\n",
        "        self.api = tweepy.API(self.auth)\n",
        "\n",
        "    def clean_tweet(self,tweet):\n",
        "        return ' '.join(re.sub('(@[A-Za-z0-9]+)|([^0-9A-Za-z \\t])|(\\w+:\\/\\/\\S+)',' ',tweet).split())\n",
        "\n",
        "    def get_tweet_sentiment(self,tweet):\n",
        "        analysis=TextBlob(self.clean_tweet(tweet))\n",
        "        if analysis.sentiment.polarity>0:\n",
        "            return 'Positive'\n",
        "\n",
        "        elif analysis.sentiment.polarity<0:\n",
        "            return 'Negative'\n",
        "\n",
        "        else:\n",
        "            return 'Neutral'\n",
        "\n",
        "    def get_tweet(self,query,count):\n",
        "        tweets=[]\n",
        "        fetch_tweet=self.api.search(q=query,count=count)\n",
        "        for tweet in fetch_tweet:\n",
        "            parsed={}\n",
        "            parsed['text']=tweet.text\n",
        "            parsed['sentiment']=self.get_tweet_sentiment(tweet.text)\n",
        "            if tweet.retweet_count>0:\n",
        "                if parsed not in tweets:\n",
        "                    tweets.append(parsed)\n",
        "\n",
        "            else:\n",
        "                tweets.append(parsed)\n",
        "        return tweets\n",
        "\n",
        "def main():\n",
        "    api=Twitterclient()\n",
        "    tweets=api.get_tweet(query='TSLA',count=200)\n",
        "    ptweets=[tweet for tweet in tweets if tweet['sentiment']=='Positive']\n",
        "    ntweets = [tweet for tweet in tweets if tweet['sentiment'] =='Negative']\n",
        "    print(f\"The score for positive tweets is {(len(ptweets)/len(tweets))*100}%\")\n",
        "    print(f\"The score for negative tweets is {(len(ntweets) / len(tweets)) * 100}%\")\n",
        "\n",
        "    positive=(len(ptweets) / len(tweets))\n",
        "    negative = (len(ntweets) / len(tweets))\n",
        "    neutral=1-(positive+negative)\n",
        "\n",
        "\n",
        "\n",
        "    labels = 'positive tweets', 'negative tweets','neutral'\n",
        "    sizes = [positive, negative,neutral]\n",
        "    colors = ['lightcoral', 'lightskyblue','gold']\n",
        "    explode = (0.1, 0,0)  # explode 1st slice\n",
        "\n",
        "\n",
        "    plt.pie(sizes, explode=explode, labels=labels, colors=colors,\n",
        "            autopct='%1.1f%%', shadow=True)\n",
        "\n",
        "    plt.axis('equal')\n",
        "    plt.title(f\"Share of positive and Negative tweets \")\n",
        "    plt.show()\n",
        "\n",
        "if __name__ == '__main__':\n",
        "    main()\n",
        "\n",
        "\n",
        "  \n",
        "\n",
        "      "
      ],
      "execution_count": 2,
      "outputs": [
        {
          "output_type": "stream",
          "text": [
            "The score for positive tweets is 38.80597014925373%\n",
            "The score for negative tweets is 7.462686567164178%\n"
          ],
          "name": "stdout"
        },
        {
          "output_type": "display_data",
          "data": {
            "image/png": "[encoded data removed]",
            "text/plain": [
              "<Figure size 432x288 with 1 Axes>"
            ]
          },
          "metadata": {
            "tags": []
          }
        }
      ]
    },
    {
      "cell_type": "code",
      "metadata": {
        "id": "_nsSYIJumL0X"
      },
      "source": [
        ""
      ],
      "execution_count": null,
      "outputs": []
    },
    {
      "cell_type": "code",
      "metadata": {
        "id": "WR7FiOFFmLt3"
      },
      "source": [
        ""
      ],
      "execution_count": null,
      "outputs": []
    },
    {
      "cell_type": "code",
      "metadata": {
        "id": "OgxxqhETmLoB"
      },
      "source": [
        ""
      ],
      "execution_count": null,
      "outputs": []
    },
    {
      "cell_type": "code",
      "metadata": {
        "id": "LWrqEbUcmLhi"
      },
      "source": [
        ""
      ],
      "execution_count": null,
      "outputs": []
    },
    {
      "cell_type": "markdown",
      "metadata": {
        "id": "iPh5QQhzmLSx"
      },
      "source": [
        ""
      ]
    },
    {
      "cell_type": "markdown",
      "metadata": {
        "id": "2Z76R948mKyC"
      },
      "source": [
        ""
      ]
    },
    {
      "cell_type": "code",
      "metadata": {
        "id": "ozlkrIBBXMiK"
      },
      "source": [
        ""
      ],
      "execution_count": null,
      "outputs": []
    },
    {
      "cell_type": "code",
      "metadata": {
        "id": "Fd50_DOQTrwU"
      },
      "source": [
        ""
      ],
      "execution_count": null,
      "outputs": []
    },
    {
      "cell_type": "code",
      "metadata": {
        "id": "M90albrsTrqu"
      },
      "source": [
        ""
      ],
      "execution_count": null,
      "outputs": []
    },
    {
      "cell_type": "code",
      "metadata": {
        "id": "uTIPUow8TrlX"
      },
      "source": [
        ""
      ],
      "execution_count": null,
      "outputs": []
    },
    {
      "cell_type": "code",
      "metadata": {
        "id": "sFStwMtITrgh"
      },
      "source": [
        ""
      ],
      "execution_count": null,
      "outputs": []
    },
    {
      "cell_type": "code",
      "metadata": {
        "id": "0Y-ztm6OTrbU"
      },
      "source": [
        ""
      ],
      "execution_count": null,
      "outputs": []
    },
    {
      "cell_type": "code",
      "metadata": {
        "id": "vVXAmyqgTrVk"
      },
      "source": [
        ""
      ],
      "execution_count": null,
      "outputs": []
    },
    {
      "cell_type": "code",
      "metadata": {
        "id": "oa97EIuoTrOV"
      },
      "source": [
        ""
      ],
      "execution_count": null,
      "outputs": []
    }
  ]
}
