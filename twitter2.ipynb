{
  "nbformat": 4,
  "nbformat_minor": 0,
  "metadata": {
    "colab": {
      "name": "twitter2.ipynb",
      "provenance": [],
      "authorship_tag": "ABX9TyONdvJOZz9msmhjQNY/rbDu",
      "include_colab_link": true
    },
    "kernelspec": {
      "name": "python3",
      "display_name": "Python 3"
    },
    "language_info": {
      "name": "python"
    }
  },
  "cells": [
    {
      "cell_type": "markdown",
      "metadata": {
        "id": "view-in-github",
        "colab_type": "text"
      },
      "source": [
        "<a href=\"https://colab.research.google.com/github/Strata-Tech/Twitter-Sentiment-Analysis/blob/main/twitter2.ipynb\" target=\"_parent\"><img src=\"https://colab.research.google.com/assets/colab-badge.svg\" alt=\"Open In Colab\"/></a>"
      ]
    },
    {
      "cell_type": "code",
      "metadata": {
        "id": "SkWBDZApTQYf"
      },
      "source": [
        "import re\n",
        "import tweepy\n",
        "from tweepy import OAuthHandler\n",
        "from textblob import TextBlob\n",
        "\n",
        "\n"
      ],
      "execution_count": null,
      "outputs": []
    },
    {
      "cell_type": "code",
      "metadata": {
        "id": "OEijzPuMTsKh",
        "colab": {
          "base_uri": "https://localhost:8080/"
        },
        "outputId": "660df1aa-96ed-4249-c100-0f84dc4fff65"
      },
      "source": [
        "#creating generic Twitter class\n",
        "\n",
        "class Twitterclient:\n",
        "\n",
        "\n",
        "  def __init__(self):\n",
        "\n",
        "  \n",
        "\n",
        "    consumer_api_key = 'q5lC2JbE5ciIlmgCQ5yMUIiPa'\n",
        "    consumer_api_secret = '68vxy3wxOb0islCuzmHRQP7XjkhaJBg1E7RyDc8FUZJhj53VAs' \n",
        "    access_token = '1408226145070325763-bIZvFp2qPwSi6DW17FdHBsuImP7Efq'\n",
        "    access_token_secret ='sDpFUZFs2WZ3pMwsvM5DDna76Wu04tbHaCnHs2ALD5ukZ'\n",
        "\n",
        "\n",
        "    self.auth = OAuthHandler(consumer_api_key, consumer_api_secret)\n",
        "\n",
        "    self.auth.set_access_token(access_token, access_token_secret)\n",
        "\n",
        "    self.api = tweepy.API(self.auth)\n",
        "\n",
        "\n",
        "  def clean_tweet(self, tweet):\n",
        "\n",
        "\n",
        "\n",
        "  #Utility function to clean tweet text by removing links, special characters using simple regex statements.\n",
        "        \n",
        "    return ' '.join(re.sub(\"(@[A-Za-z0-9]+)|([^0-9A-Za-z \\t])|(\\w+:\\/\\/\\S+)\", \" \", tweet).split())\n",
        "   \n",
        "\n",
        "  def get_tweet_sentiment(self, tweet):\n",
        "    analysis=TextBlob(self.clean_tweet(tweet))\n",
        "    if analysis.sentiment.polarity > 0:\n",
        "      return 'positive'\n",
        "\n",
        "    elif analysis.sentiment.polarity == 0:\n",
        "      return 'neutral'\n",
        "\n",
        "    else:\n",
        "      return 'negative'\n",
        "\n",
        "\n",
        "\n",
        "  def get_tweets(self, query, count = 10):\n",
        "  \n",
        "\n",
        "  #Main function to fetch tweets and parse them.\n",
        "    tweets=[]\n",
        "    try:\n",
        "      fetched_tweets=self.api.search(q=query,count=count)\n",
        "      for tweet in fetched_tweets:\n",
        "        parsed_tweet={}\n",
        "        #saving text of tweet\n",
        "        parsed_tweet['text']=tweet.text\n",
        "        #saving sentiment of text\n",
        "        parsed_tweet['sentiment']=self.get_tweet_sentiment(tweet.text)\n",
        "        #appending parsed tweets into a list\n",
        "        if tweet.retweet_count>0:\n",
        "          if parsed_tweet not in tweets:\n",
        "            tweets.append(parsed_tweet)\n",
        "        else:\n",
        "          tweets.append(parsed_tweet)\n",
        "\n",
        "      return tweets\n",
        "       \n",
        "\n",
        "      \n",
        "\n",
        "    except tweepy.TweepError as e:\n",
        "\n",
        "     \n",
        "\n",
        "      print('Error',e)\n",
        "\n",
        "\n",
        "def main():\n",
        "    #creating object\n",
        "    api=Twitterclient()\n",
        "    tweets=api.get_tweets(query='crypto',count=200)\n",
        "\n",
        "    #sentiment analysis using list comprehension\n",
        "    ptweets=[tweet for tweet in tweets if tweet['sentiment']=='positive']\n",
        "    ntweets=[tweet for tweet in tweets if tweet['sentiment']=='negative']\n",
        "    print(f\"The percentage of positive sentiment is {(len(ptweets)/len(tweets))*100}\")\n",
        "    print(f\"The percentage of negative sentiment is {(len(ntweets)/len(tweets))*100}\")\n",
        "  \n",
        "  if __name__=='__main__':\n",
        "    main()\n",
        "\n",
        "\n",
        "\n",
        "  \n",
        "\n",
        "      "
      ],
      "execution_count": null,
      "outputs": [
        {
          "output_type": "stream",
          "text": [
            "The percentage of positive sentiment is 38.15789473684211\n",
            "The percentage of negative sentiment is 6.578947368421052\n"
          ],
          "name": "stdout"
        }
      ]
    },
    {
      "cell_type": "code",
      "metadata": {
        "id": "_nsSYIJumL0X"
      },
      "source": [
        ""
      ],
      "execution_count": null,
      "outputs": []
    },
    {
      "cell_type": "code",
      "metadata": {
        "id": "WR7FiOFFmLt3"
      },
      "source": [
        ""
      ],
      "execution_count": null,
      "outputs": []
    },
    {
      "cell_type": "code",
      "metadata": {
        "id": "OgxxqhETmLoB"
      },
      "source": [
        ""
      ],
      "execution_count": null,
      "outputs": []
    },
    {
      "cell_type": "code",
      "metadata": {
        "id": "LWrqEbUcmLhi"
      },
      "source": [
        ""
      ],
      "execution_count": null,
      "outputs": []
    },
    {
      "cell_type": "markdown",
      "metadata": {
        "id": "iPh5QQhzmLSx"
      },
      "source": [
        ""
      ]
    },
    {
      "cell_type": "markdown",
      "metadata": {
        "id": "2Z76R948mKyC"
      },
      "source": [
        ""
      ]
    },
    {
      "cell_type": "code",
      "metadata": {
        "id": "ozlkrIBBXMiK"
      },
      "source": [
        ""
      ],
      "execution_count": null,
      "outputs": []
    },
    {
      "cell_type": "code",
      "metadata": {
        "id": "Fd50_DOQTrwU"
      },
      "source": [
        ""
      ],
      "execution_count": null,
      "outputs": []
    },
    {
      "cell_type": "code",
      "metadata": {
        "id": "M90albrsTrqu"
      },
      "source": [
        ""
      ],
      "execution_count": null,
      "outputs": []
    },
    {
      "cell_type": "code",
      "metadata": {
        "id": "uTIPUow8TrlX"
      },
      "source": [
        ""
      ],
      "execution_count": null,
      "outputs": []
    },
    {
      "cell_type": "code",
      "metadata": {
        "id": "sFStwMtITrgh"
      },
      "source": [
        ""
      ],
      "execution_count": null,
      "outputs": []
    },
    {
      "cell_type": "code",
      "metadata": {
        "id": "0Y-ztm6OTrbU"
      },
      "source": [
        ""
      ],
      "execution_count": null,
      "outputs": []
    },
    {
      "cell_type": "code",
      "metadata": {
        "id": "vVXAmyqgTrVk"
      },
      "source": [
        ""
      ],
      "execution_count": null,
      "outputs": []
    },
    {
      "cell_type": "code",
      "metadata": {
        "id": "oa97EIuoTrOV"
      },
      "source": [
        ""
      ],
      "execution_count": null,
      "outputs": []
    }
  ]
}